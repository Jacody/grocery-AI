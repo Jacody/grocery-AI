{
 "cells": [
  {
   "cell_type": "code",
   "execution_count": 3,
   "id": "27bd863b-126a-4ba4-8e9b-43bdb23a4d3f",
   "metadata": {},
   "outputs": [
    {
     "name": "stdout",
     "output_type": "stream",
     "text": [
      "[0.00 Sekunden] Milch → Milchprodukte (Sicherheit: 10.05%)\n",
      "[0.00 Sekunden] Bananen → Backmittel (Sicherheit: 5.26%)\n",
      "[0.00 Sekunden] Nudeln → Trockenprodukte (Sicherheit: 10.05%)\n",
      "[0.00 Sekunden] Mehl → Backmittel (Sicherheit: 10.05%)\n",
      "[0.00 Sekunden] Tomatensoße → Backmittel (Sicherheit: 5.26%)\n",
      "[0.00 Sekunden] Joghurt → Milchprodukte (Sicherheit: 9.57%)\n",
      "\n",
      "⏳ Gesamte Verarbeitungszeit: 0.00 Sekunden\n",
      "\n"
     ]
    }
   ],
   "source": [
    "from sklearn.feature_extraction.text import CountVectorizer\n",
    "from sklearn.naive_bayes import MultinomialNB\n",
    "import pandas as pd\n",
    "import time\n",
    "\n",
    "\n",
    "# Daten laden\n",
    "file_produkte = \"produkte abteilungen.csv\"\n",
    "df = pd.read_csv(file_produkte)\n",
    "\n",
    "\n",
    "# Trainingsdaten vorbereiten\n",
    "X_train = df[\"Produkt\"]\n",
    "y_train = df[\"Abteilung\"]\n",
    "\n",
    "# Text in numerische Features umwandeln\n",
    "vectorizer = CountVectorizer()\n",
    "X_train_vec = vectorizer.fit_transform(X_train)\n",
    "\n",
    "# Naive Bayes Modell trainieren\n",
    "model = MultinomialNB()\n",
    "model.fit(X_train_vec, y_train)\n",
    "\n",
    "# Funktion zur Vorhersage der Abteilung mit Wahrscheinlichkeitsbewertung\n",
    "def predict_abteilung(produktname):\n",
    "    X_test_vec = vectorizer.transform([produktname])\n",
    "    probabilities = model.predict_proba(X_test_vec)\n",
    "    predicted_class = model.classes_[probabilities.argmax()]\n",
    "    confidence = probabilities.max()\n",
    "    return predicted_class, confidence\n",
    "\n",
    "# Funktion zur Klassifikation einer Liste von Produkten mit Zeitmessung\n",
    "def classify_products(einkaufsliste):\n",
    "    klassifizierte_liste = {}\n",
    "    start_time = time.time()\n",
    "    \n",
    "    for produkt in einkaufsliste:\n",
    "        start_time_product = time.time()\n",
    "        abteilung, confidence = predict_abteilung(produkt)\n",
    "        elapsed_time = time.time() - start_time_product\n",
    "        klassifizierte_liste[produkt] = (abteilung, confidence, elapsed_time)\n",
    "        print(f\"[{elapsed_time:.2f} Sekunden] {produkt} → {abteilung} (Sicherheit: {confidence:.2%})\")\n",
    "    \n",
    "    elapsed_time_total = time.time() - start_time\n",
    "    print(f\"\\n⏳ Gesamte Verarbeitungszeit: {elapsed_time_total:.2f} Sekunden\\n\")\n",
    "    return klassifizierte_liste\n",
    "\n",
    "# Beispiel-Liste\n",
    "KURZE_LISTE = [\"Milch\", \"Bananen\", \"Nudeln\", \"Mehl\", \"Tomatensoße\", \"Joghurt\"]\n",
    "classified = classify_products(KURZE_LISTE)\n"
   ]
  },
  {
   "cell_type": "code",
   "execution_count": null,
   "id": "c331c89d-cee6-44ad-b705-38ed70960eb5",
   "metadata": {},
   "outputs": [],
   "source": []
  },
  {
   "cell_type": "code",
   "execution_count": null,
   "id": "48b7f947-3abf-430f-9263-29ca51d4e54c",
   "metadata": {},
   "outputs": [],
   "source": []
  },
  {
   "cell_type": "code",
   "execution_count": null,
   "id": "8f383d69-4be4-42f0-ad05-7c5578065c12",
   "metadata": {},
   "outputs": [],
   "source": []
  },
  {
   "cell_type": "code",
   "execution_count": null,
   "id": "b12506b9-e204-4f58-a979-8a62ff3b0c97",
   "metadata": {},
   "outputs": [],
   "source": []
  },
  {
   "cell_type": "code",
   "execution_count": null,
   "id": "bd7fd7f0-4c0c-4950-9148-5d2403b7ff29",
   "metadata": {},
   "outputs": [],
   "source": []
  }
 ],
 "metadata": {
  "kernelspec": {
   "display_name": "Python 3 (ipykernel)",
   "language": "python",
   "name": "python3"
  },
  "language_info": {
   "codemirror_mode": {
    "name": "ipython",
    "version": 3
   },
   "file_extension": ".py",
   "mimetype": "text/x-python",
   "name": "python",
   "nbconvert_exporter": "python",
   "pygments_lexer": "ipython3",
   "version": "3.13.1"
  }
 },
 "nbformat": 4,
 "nbformat_minor": 5
}
